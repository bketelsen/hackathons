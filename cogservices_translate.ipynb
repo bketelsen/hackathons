{
 "cells": [
  {
   "cell_type": "markdown",
   "metadata": {},
   "source": [
    "# Translate speech"
   ]
  },
  {
   "cell_type": "code",
   "execution_count": 9,
   "metadata": {},
   "outputs": [],
   "source": [
    "# -*- coding: utf-8 -*-\n",
    "\n",
    "# To install this package, run:\n",
    "#   pip install websocket-client\n",
    "import websocket\n",
    "\n",
    "# **********************************************\n",
    "# *** Update or verify the following values. ***\n",
    "# **********************************************\n",
    "\n",
    "# Replace the key string value with your valid subscription key.\n",
    "key = '69563d04f6af45fe8fdf1e5f57f15b79' # REPLACE ME WITH YOUR KEY\n",
    "\n",
    "host = 'wss://dev.microsofttranslator.com'\n",
    "path = '/speech/translate';\n",
    "params = '?api-version=1.0&from=en-US&to=it-IT&features=texttospeech&voice=it-IT-Elsa'\n",
    "uri = host + path + params"
   ]
  },
  {
   "cell_type": "code",
   "execution_count": 10,
   "metadata": {},
   "outputs": [],
   "source": [
    "input_file = 'eng_f1.wav'\n",
    "output_file = 'speak2.wav'\n",
    "\n",
    "output = bytearray ()"
   ]
  },
  {
   "cell_type": "code",
   "execution_count": 11,
   "metadata": {},
   "outputs": [],
   "source": [
    "def on_open (client):\n",
    "    print (\"Connected.\")\n",
    "\n",
    "# r = read. b = binary. (read a binary file)\n",
    "    with open (input_file, mode='rb') as file:\n",
    "        data = file.read()\n",
    "\n",
    "    print (\"Sending audio.\")\n",
    "    client.send (data, websocket.ABNF.OPCODE_BINARY)\n",
    "    \n",
    "# Make sure the audio file is followed by silence.\n",
    "# This lets the service know that the audio input is finished.\n",
    "    print (\"Sending silence.\")\n",
    "    client.send (bytearray (32000), websocket.ABNF.OPCODE_BINARY)"
   ]
  },
  {
   "cell_type": "code",
   "execution_count": 15,
   "metadata": {},
   "outputs": [],
   "source": [
    "def on_data (client, message, message_type, is_last):\n",
    "    global output\n",
    "    if (websocket.ABNF.OPCODE_TEXT == message_type):\n",
    "        print (\"Received text data.\")\n",
    "        print (message)\n",
    "# If we receive the data as type websocket.ABNF.OPCODE_CONT.\n",
    "    elif (websocket.ABNF.OPCODE_BINARY == message_type or websocket.ABNF.OPCODE_CONT == message_type):\n",
    "        print (\"Received binary data.\")\n",
    "        print (\"Is last? \" + str(is_last))\n",
    "        output = output + message\n",
    "        if (True == is_last):\n",
    "# w = write. b = binary.\n",
    "            with open (output_file, mode='wb') as file:\n",
    "                file.write (output)\n",
    "                print (\"Wrote data to output file.\")\n",
    "            client.close ()\n",
    "    else:\n",
    "        print (\"Received data of type: \" + str (message_type))"
   ]
  },
  {
   "cell_type": "code",
   "execution_count": 13,
   "metadata": {},
   "outputs": [],
   "source": [
    "def on_error (client, error):\n",
    "    print (\"Connection error: \" + str (error))\n",
    "\n",
    "def on_close (client):\n",
    "    print (\"Connection closed.\")"
   ]
  },
  {
   "cell_type": "code",
   "execution_count": 14,
   "metadata": {},
   "outputs": [
    {
     "name": "stdout",
     "output_type": "stream",
     "text": [
      "Connecting...\n",
      "Connected.\n",
      "Sending audio.\n",
      "Sending silence.\n",
      "Received text data.\n",
      "{\"type\":\"final\",\"id\":\"0\",\"recognition\":\"It's very embarrassing.\",\"translation\":\"È molto imbarazzante.\"}\n",
      "Received binary data.\n",
      "Is last? True\n",
      "Wrote data to output file.\n",
      "Connection error: 'NoneType' object has no attribute 'connected'\n",
      "Connection closed.\n"
     ]
    }
   ],
   "source": [
    "client = websocket.WebSocketApp(\n",
    "    uri,\n",
    "    header=[\n",
    "        'Ocp-Apim-Subscription-Key: ' + key\n",
    "    ],\n",
    "    on_open=on_open,\n",
    "    on_data=on_data,\n",
    "    on_error=on_error,\n",
    "    on_close=on_close\n",
    ")\n",
    "\n",
    "print (\"Connecting...\")\n",
    "client.run_forever()"
   ]
  }
 ],
 "metadata": {
  "kernelspec": {
   "display_name": "Python 3",
   "language": "python",
   "name": "python3"
  },
  "language_info": {
   "codemirror_mode": {
    "name": "ipython",
    "version": 3
   },
   "file_extension": ".py",
   "mimetype": "text/x-python",
   "name": "python",
   "nbconvert_exporter": "python",
   "pygments_lexer": "ipython3",
   "version": "3.7.0"
  }
 },
 "nbformat": 4,
 "nbformat_minor": 2
}
