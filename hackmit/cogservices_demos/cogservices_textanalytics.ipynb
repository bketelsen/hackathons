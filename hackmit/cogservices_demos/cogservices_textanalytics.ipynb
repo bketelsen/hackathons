{
 "cells": [
  {
   "cell_type": "markdown",
   "metadata": {},
   "source": [
    "# Forum moderation with cognitive services"
   ]
  },
  {
   "attachments": {},
   "cell_type": "markdown",
   "metadata": {},
   "source": [
    "Step 1: Get an Azure account with Azure for Students\n",
    "\n",
    "Step 2: Get a cognitive services API account with Text Analytics API.\n",
    "\n",
    "![](https://docs.microsoft.com/en-us/azure/cognitive-services/media/cognitive-services-apis-create-account/select-cognitive-services-apis.png)"
   ]
  },
  {
   "cell_type": "code",
   "execution_count": 22,
   "metadata": {},
   "outputs": [],
   "source": [
    "import requests\n",
    "\n",
    "subscription_key = 'a486290521c14227b873e7482c7dab67'\n",
    "text_analytics_base_url = \"https://westus.api.cognitive.microsoft.com/text/analytics/v2.0/\""
   ]
  },
  {
   "cell_type": "markdown",
   "metadata": {},
   "source": [
    "## Sentiment analysis"
   ]
  },
  {
   "cell_type": "code",
   "execution_count": 23,
   "metadata": {},
   "outputs": [
    {
     "name": "stdout",
     "output_type": "stream",
     "text": [
      "https://westus.api.cognitive.microsoft.com/text/analytics/v2.0/sentiment\n"
     ]
    }
   ],
   "source": [
    "sentiment_api_url = text_analytics_base_url + \"sentiment\"\n",
    "print(sentiment_api_url)"
   ]
  },
  {
   "cell_type": "code",
   "execution_count": 28,
   "metadata": {},
   "outputs": [],
   "source": [
    "documents = {'documents' : [\n",
    "  {'id': '1', 'language': 'en', 'text': 'Youre awful! Why would you even bother posting. Go away.'},\n",
    "  {'id': '2', 'language': 'en', 'text': 'Thanks for sharing your opinion!'}, \n",
    "  {'id': '3', 'language': 'en', 'text': 'I dont agree with you, but I think we can work something out.'},\n",
    "]}\n",
    "\n",
    "# call API to pull in from Reddit - etc."
   ]
  },
  {
   "cell_type": "code",
   "execution_count": 29,
   "metadata": {},
   "outputs": [
    {
     "name": "stdout",
     "output_type": "stream",
     "text": [
      "{'documents': [{'score': 0.06183943152427673, 'id': '1'}, {'score': 0.9842249155044556, 'id': '2'}, {'score': 0.7772971391677856, 'id': '3'}], 'errors': []}\n"
     ]
    }
   ],
   "source": [
    "headers   = {\"Ocp-Apim-Subscription-Key\": subscription_key}\n",
    "response  = requests.post(sentiment_api_url, headers=headers, json=documents)\n",
    "sentiments = response.json()\n",
    "print(sentiments)"
   ]
  },
  {
   "cell_type": "markdown",
   "metadata": {},
   "source": [
    "## Key phrases\n"
   ]
  },
  {
   "cell_type": "code",
   "execution_count": 30,
   "metadata": {},
   "outputs": [
    {
     "name": "stdout",
     "output_type": "stream",
     "text": [
      "https://westus.api.cognitive.microsoft.com/text/analytics/v2.0/keyPhrases\n"
     ]
    }
   ],
   "source": [
    "key_phrase_api_url = text_analytics_base_url + \"keyPhrases\"\n",
    "print(key_phrase_api_url)"
   ]
  },
  {
   "cell_type": "code",
   "execution_count": 31,
   "metadata": {},
   "outputs": [
    {
     "name": "stdout",
     "output_type": "stream",
     "text": [
      "{'documents': [{'id': '1', 'keyPhrases': ['Youre awful']}, {'id': '2', 'keyPhrases': ['Thanks']}, {'id': '3', 'keyPhrases': ['dont']}], 'errors': []}\n"
     ]
    }
   ],
   "source": [
    "headers   = {'Ocp-Apim-Subscription-Key': subscription_key}\n",
    "response  = requests.post(key_phrase_api_url, headers=headers, json=documents)\n",
    "key_phrases = response.json()\n",
    "print(key_phrases)"
   ]
  }
 ],
 "metadata": {
  "kernelspec": {
   "display_name": "Python 3",
   "language": "python",
   "name": "python3"
  },
  "language_info": {
   "codemirror_mode": {
    "name": "ipython",
    "version": 3
   },
   "file_extension": ".py",
   "mimetype": "text/x-python",
   "name": "python",
   "nbconvert_exporter": "python",
   "pygments_lexer": "ipython3",
   "version": "3.7.0"
  }
 },
 "nbformat": 4,
 "nbformat_minor": 2
}
